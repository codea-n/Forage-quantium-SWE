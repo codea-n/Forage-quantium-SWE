{
 "cells": [
  {
   "cell_type": "code",
   "execution_count": 1,
   "id": "44684691",
   "metadata": {},
   "outputs": [],
   "source": [
    "import numpy as np \n",
    "import pandas as pd"
   ]
  },
  {
   "cell_type": "code",
   "execution_count": 13,
   "id": "c79f80b9",
   "metadata": {},
   "outputs": [],
   "source": [
    "daily_sales_data_0 = pd.read_csv('data/daily_sales_data_0.csv')\n",
    "daily_sales_data_1 = pd.read_csv('data/daily_sales_data_1.csv')\n",
    "daily_sales_data_2 = pd.read_csv('data/daily_sales_data_2.csv')\n"
   ]
  },
  {
   "cell_type": "code",
   "execution_count": 14,
   "id": "5724314e",
   "metadata": {},
   "outputs": [
    {
     "data": {
      "text/html": [
       "<div>\n",
       "<style scoped>\n",
       "    .dataframe tbody tr th:only-of-type {\n",
       "        vertical-align: middle;\n",
       "    }\n",
       "\n",
       "    .dataframe tbody tr th {\n",
       "        vertical-align: top;\n",
       "    }\n",
       "\n",
       "    .dataframe thead th {\n",
       "        text-align: right;\n",
       "    }\n",
       "</style>\n",
       "<table border=\"1\" class=\"dataframe\">\n",
       "  <thead>\n",
       "    <tr style=\"text-align: right;\">\n",
       "      <th></th>\n",
       "      <th>product</th>\n",
       "      <th>price</th>\n",
       "      <th>quantity</th>\n",
       "      <th>date</th>\n",
       "      <th>region</th>\n",
       "    </tr>\n",
       "  </thead>\n",
       "  <tbody>\n",
       "    <tr>\n",
       "      <th>0</th>\n",
       "      <td>pink morsel</td>\n",
       "      <td>$3.00</td>\n",
       "      <td>546</td>\n",
       "      <td>2018-02-06</td>\n",
       "      <td>north</td>\n",
       "    </tr>\n",
       "    <tr>\n",
       "      <th>1</th>\n",
       "      <td>pink morsel</td>\n",
       "      <td>$3.00</td>\n",
       "      <td>549</td>\n",
       "      <td>2018-02-06</td>\n",
       "      <td>south</td>\n",
       "    </tr>\n",
       "    <tr>\n",
       "      <th>2</th>\n",
       "      <td>pink morsel</td>\n",
       "      <td>$3.00</td>\n",
       "      <td>577</td>\n",
       "      <td>2018-02-06</td>\n",
       "      <td>east</td>\n",
       "    </tr>\n",
       "    <tr>\n",
       "      <th>3</th>\n",
       "      <td>pink morsel</td>\n",
       "      <td>$3.00</td>\n",
       "      <td>519</td>\n",
       "      <td>2018-02-06</td>\n",
       "      <td>west</td>\n",
       "    </tr>\n",
       "    <tr>\n",
       "      <th>4</th>\n",
       "      <td>gold morsel</td>\n",
       "      <td>$9.99</td>\n",
       "      <td>580</td>\n",
       "      <td>2018-02-06</td>\n",
       "      <td>north</td>\n",
       "    </tr>\n",
       "  </tbody>\n",
       "</table>\n",
       "</div>"
      ],
      "text/plain": [
       "       product  price  quantity        date region\n",
       "0  pink morsel  $3.00       546  2018-02-06  north\n",
       "1  pink morsel  $3.00       549  2018-02-06  south\n",
       "2  pink morsel  $3.00       577  2018-02-06   east\n",
       "3  pink morsel  $3.00       519  2018-02-06   west\n",
       "4  gold morsel  $9.99       580  2018-02-06  north"
      ]
     },
     "execution_count": 14,
     "metadata": {},
     "output_type": "execute_result"
    }
   ],
   "source": [
    "merged_df=pd.concat([daily_sales_data_0, daily_sales_data_1, daily_sales_data_2], ignore_index=True)\n",
    "merged_df.head(5)"
   ]
  },
  {
   "cell_type": "code",
   "execution_count": 19,
   "id": "3ff2b99e",
   "metadata": {},
   "outputs": [
    {
     "data": {
      "text/html": [
       "<div>\n",
       "<style scoped>\n",
       "    .dataframe tbody tr th:only-of-type {\n",
       "        vertical-align: middle;\n",
       "    }\n",
       "\n",
       "    .dataframe tbody tr th {\n",
       "        vertical-align: top;\n",
       "    }\n",
       "\n",
       "    .dataframe thead th {\n",
       "        text-align: right;\n",
       "    }\n",
       "</style>\n",
       "<table border=\"1\" class=\"dataframe\">\n",
       "  <thead>\n",
       "    <tr style=\"text-align: right;\">\n",
       "      <th></th>\n",
       "      <th>product</th>\n",
       "      <th>price</th>\n",
       "      <th>quantity</th>\n",
       "      <th>date</th>\n",
       "      <th>region</th>\n",
       "    </tr>\n",
       "  </thead>\n",
       "  <tbody>\n",
       "    <tr>\n",
       "      <th>0</th>\n",
       "      <td>pink morsel</td>\n",
       "      <td>$3.00</td>\n",
       "      <td>546</td>\n",
       "      <td>2018-02-06</td>\n",
       "      <td>north</td>\n",
       "    </tr>\n",
       "    <tr>\n",
       "      <th>1</th>\n",
       "      <td>pink morsel</td>\n",
       "      <td>$3.00</td>\n",
       "      <td>549</td>\n",
       "      <td>2018-02-06</td>\n",
       "      <td>south</td>\n",
       "    </tr>\n",
       "    <tr>\n",
       "      <th>2</th>\n",
       "      <td>pink morsel</td>\n",
       "      <td>$3.00</td>\n",
       "      <td>577</td>\n",
       "      <td>2018-02-06</td>\n",
       "      <td>east</td>\n",
       "    </tr>\n",
       "    <tr>\n",
       "      <th>3</th>\n",
       "      <td>pink morsel</td>\n",
       "      <td>$3.00</td>\n",
       "      <td>519</td>\n",
       "      <td>2018-02-06</td>\n",
       "      <td>west</td>\n",
       "    </tr>\n",
       "    <tr>\n",
       "      <th>28</th>\n",
       "      <td>pink morsel</td>\n",
       "      <td>$3.00</td>\n",
       "      <td>529</td>\n",
       "      <td>2018-02-07</td>\n",
       "      <td>north</td>\n",
       "    </tr>\n",
       "  </tbody>\n",
       "</table>\n",
       "</div>"
      ],
      "text/plain": [
       "        product  price  quantity        date region\n",
       "0   pink morsel  $3.00       546  2018-02-06  north\n",
       "1   pink morsel  $3.00       549  2018-02-06  south\n",
       "2   pink morsel  $3.00       577  2018-02-06   east\n",
       "3   pink morsel  $3.00       519  2018-02-06   west\n",
       "28  pink morsel  $3.00       529  2018-02-07  north"
      ]
     },
     "execution_count": 19,
     "metadata": {},
     "output_type": "execute_result"
    }
   ],
   "source": [
    "merged_df=merged_df[merged_df['product']=='pink morsel']\n",
    "merged_df.head(5)"
   ]
  },
  {
   "cell_type": "code",
   "execution_count": null,
   "id": "1deecbdd",
   "metadata": {},
   "outputs": [
    {
     "data": {
      "text/plain": [
       "np.int64(0)"
      ]
     },
     "execution_count": 25,
     "metadata": {},
     "output_type": "execute_result"
    }
   ],
   "source": [
    "new_merged_df=merged_df.copy()\n",
    "new_merged_df.head(5)"
   ]
  },
  {
   "cell_type": "code",
   "execution_count": null,
   "id": "311f571e",
   "metadata": {},
   "outputs": [],
   "source": [
    "new_merged_df['price']=new_merged_df['price'].astype(str)\n",
    "new_merged_df['price']=new_merged_df['price'].str.replace('$','')\n",
    "new_merged_df['price']=new_merged_df['price'].astype(float)\n",
    "new_merged_df['Sales']=new_merged_df['price']*new_merged_df['quantity']\n"
   ]
  },
  {
   "cell_type": "code",
   "execution_count": 39,
   "id": "352fa1ce",
   "metadata": {},
   "outputs": [
    {
     "data": {
      "text/html": [
       "<div>\n",
       "<style scoped>\n",
       "    .dataframe tbody tr th:only-of-type {\n",
       "        vertical-align: middle;\n",
       "    }\n",
       "\n",
       "    .dataframe tbody tr th {\n",
       "        vertical-align: top;\n",
       "    }\n",
       "\n",
       "    .dataframe thead th {\n",
       "        text-align: right;\n",
       "    }\n",
       "</style>\n",
       "<table border=\"1\" class=\"dataframe\">\n",
       "  <thead>\n",
       "    <tr style=\"text-align: right;\">\n",
       "      <th></th>\n",
       "      <th>date</th>\n",
       "      <th>region</th>\n",
       "      <th>Sales</th>\n",
       "    </tr>\n",
       "  </thead>\n",
       "  <tbody>\n",
       "    <tr>\n",
       "      <th>0</th>\n",
       "      <td>2018-02-06</td>\n",
       "      <td>north</td>\n",
       "      <td>1638.0</td>\n",
       "    </tr>\n",
       "    <tr>\n",
       "      <th>1</th>\n",
       "      <td>2018-02-06</td>\n",
       "      <td>south</td>\n",
       "      <td>1647.0</td>\n",
       "    </tr>\n",
       "    <tr>\n",
       "      <th>2</th>\n",
       "      <td>2018-02-06</td>\n",
       "      <td>east</td>\n",
       "      <td>1731.0</td>\n",
       "    </tr>\n",
       "    <tr>\n",
       "      <th>3</th>\n",
       "      <td>2018-02-06</td>\n",
       "      <td>west</td>\n",
       "      <td>1557.0</td>\n",
       "    </tr>\n",
       "    <tr>\n",
       "      <th>28</th>\n",
       "      <td>2018-02-07</td>\n",
       "      <td>north</td>\n",
       "      <td>1587.0</td>\n",
       "    </tr>\n",
       "  </tbody>\n",
       "</table>\n",
       "</div>"
      ],
      "text/plain": [
       "          date region   Sales\n",
       "0   2018-02-06  north  1638.0\n",
       "1   2018-02-06  south  1647.0\n",
       "2   2018-02-06   east  1731.0\n",
       "3   2018-02-06   west  1557.0\n",
       "28  2018-02-07  north  1587.0"
      ]
     },
     "execution_count": 39,
     "metadata": {},
     "output_type": "execute_result"
    }
   ],
   "source": [
    "daily_sales_data=new_merged_df.copy()\n",
    "daily_sales_data.drop(columns=['product','price','quantity'], inplace=True)\n",
    "daily_sales_data.head(5)"
   ]
  }
 ],
 "metadata": {
  "kernelspec": {
   "display_name": ".venv",
   "language": "python",
   "name": "python3"
  },
  "language_info": {
   "codemirror_mode": {
    "name": "ipython",
    "version": 3
   },
   "file_extension": ".py",
   "mimetype": "text/x-python",
   "name": "python",
   "nbconvert_exporter": "python",
   "pygments_lexer": "ipython3",
   "version": "3.12.5"
  }
 },
 "nbformat": 4,
 "nbformat_minor": 5
}
